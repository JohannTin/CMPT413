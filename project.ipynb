{
 "cells": [
  {
   "cell_type": "markdown",
   "metadata": {},
   "source": [
    "## Preprocessing Data"
   ]
  },
  {
   "cell_type": "markdown",
   "metadata": {},
   "source": [
    "Filter out English news articles."
   ]
  },
  {
   "cell_type": "code",
   "execution_count": 1,
   "metadata": {},
   "outputs": [
    {
     "name": "stdout",
     "output_type": "stream",
     "text": [
      "Processed 'Data/Datasets/Health_News/Health_News.csv': Selected 200 English articles\n",
      "Processed 'Data/Datasets/Covid_and_Vaccine_News/Covid_and_Vaccine_News.csv': Selected 200 English articles\n",
      "Processed 'Data/Datasets/Covid_News/Covid_News.csv': Selected 200 English articles\n",
      "Processed 'Data/Datasets/Science_&_Technology_News/Science_&_Technology_News.csv': Selected 200 English articles\n",
      "Processed 'Data/Datasets/World_Politics_News/World_Politics_News.csv': Selected 200 English articles\n",
      "\n",
      "Summary:\n",
      "Total input articles processed: 19520\n",
      "Total English articles selected: 1000\n",
      "Results saved to Data/Processed_Data/combined_english_news.csv\n"
     ]
    }
   ],
   "source": [
    "from preprocess import filter_english_news\n",
    "\n",
    "english_news = filter_english_news()"
   ]
  },
  {
   "cell_type": "markdown",
   "metadata": {},
   "source": [
    "Get NER extraction from default and custom model"
   ]
  },
  {
   "cell_type": "markdown",
   "metadata": {},
   "source": [
    "Default spaCy NER"
   ]
  },
  {
   "cell_type": "code",
   "execution_count": 1,
   "metadata": {},
   "outputs": [],
   "source": [
    "!pip3 install -U spacy -q"
   ]
  },
  {
   "cell_type": "code",
   "execution_count": 2,
   "metadata": {},
   "outputs": [
    {
     "name": "stdout",
     "output_type": "stream",
     "text": [
      "\u001b[1m\n",
      "============================== Info about spaCy ==============================\u001b[0m\n",
      "\n",
      "spaCy version    3.8.5                         \n",
      "Location         /home/em/cmpt413/CMPT413/venv/lib/python3.10/site-packages/spacy\n",
      "Platform         Linux-6.8.0-57-generic-x86_64-with-glibc2.35\n",
      "Python version   3.10.12                       \n",
      "Pipelines                                      \n",
      "\n"
     ]
    }
   ],
   "source": [
    "!python3 -m spacy info"
   ]
  },
  {
   "cell_type": "code",
   "execution_count": 3,
   "metadata": {},
   "outputs": [
    {
     "name": "stdout",
     "output_type": "stream",
     "text": [
      "Collecting en-core-web-lg==3.8.0\n",
      "  Downloading https://github.com/explosion/spacy-models/releases/download/en_core_web_lg-3.8.0/en_core_web_lg-3.8.0-py3-none-any.whl (400.7 MB)\n",
      "\u001b[2K     \u001b[38;2;114;156;31m━━━━━━━━━━━━━━━━━━━━━━━━━━━━━━━━━━━━━\u001b[0m \u001b[32m400.7/400.7 MB\u001b[0m \u001b[31m378.7 kB/s\u001b[0m eta \u001b[36m0:00:00\u001b[0mm eta \u001b[36m0:00:01\u001b[0m[36m0:00:14\u001b[0m\n",
      "\u001b[?25hInstalling collected packages: en-core-web-lg\n",
      "Successfully installed en-core-web-lg-3.8.0\n",
      "\u001b[38;5;2m✔ Download and installation successful\u001b[0m\n",
      "You can now load the package via spacy.load('en_core_web_lg')\n"
     ]
    }
   ],
   "source": [
    "!python3 -m spacy download en_core_web_lg"
   ]
  },
  {
   "cell_type": "code",
   "execution_count": 4,
   "metadata": {},
   "outputs": [],
   "source": [
    "from NER_extraction import extract\n",
    "\n",
    "default_ner = extract()"
   ]
  },
  {
   "cell_type": "markdown",
   "metadata": {},
   "source": [
    "Custom NER model"
   ]
  },
  {
   "cell_type": "code",
   "execution_count": 6,
   "metadata": {},
   "outputs": [
    {
     "name": "stderr",
     "output_type": "stream",
     "text": [
      "100%|████████████████████████████████████████████████████████████████████████████████████████████████████████████████████████████████| 272/272 [00:00<00:00, 838.60it/s]\n"
     ]
    }
   ],
   "source": [
    "from custom_NER import train_NER\n",
    "\n",
    "train = train_NER()"
   ]
  },
  {
   "cell_type": "markdown",
   "metadata": {},
   "source": [
    "Training the custom NER model"
   ]
  },
  {
   "cell_type": "code",
   "execution_count": 7,
   "metadata": {},
   "outputs": [
    {
     "name": "stdout",
     "output_type": "stream",
     "text": [
      "\u001b[38;5;3m⚠ To generate a more effective transformer-based config (GPU-only),\n",
      "install the spacy-transformers package and re-run this command. The config\n",
      "generated now does not use transformers.\u001b[0m\n",
      "\u001b[38;5;4mℹ Generated config template specific for your use case\u001b[0m\n",
      "- Language: en\n",
      "- Pipeline: ner\n",
      "- Optimize for: accuracy\n",
      "- Hardware: CPU\n",
      "- Transformer: None\n",
      "\u001b[38;5;2m✔ Auto-filled config with all values\u001b[0m\n",
      "\u001b[38;5;2m✔ Saved config\u001b[0m\n",
      "config.cfg\n",
      "You can now add your data and train your pipeline:\n",
      "python -m spacy train config.cfg --paths.train ./train.spacy --paths.dev ./dev.spacy\n"
     ]
    }
   ],
   "source": [
    "!python3 -m spacy init config config.cfg --lang en --pipeline ner --optimize accuracy --force"
   ]
  },
  {
   "cell_type": "code",
   "execution_count": 1,
   "metadata": {},
   "outputs": [
    {
     "name": "stdout",
     "output_type": "stream",
     "text": [
      "\u001b[38;5;4mℹ Saving to output directory: .\u001b[0m\n",
      "\u001b[38;5;4mℹ Using CPU\u001b[0m\n",
      "\u001b[1m\n",
      "=========================== Initializing pipeline ===========================\u001b[0m\n",
      "\u001b[38;5;2m✔ Initialized pipeline\u001b[0m\n",
      "\u001b[1m\n",
      "============================= Training pipeline =============================\u001b[0m\n",
      "\u001b[38;5;4mℹ Pipeline: ['tok2vec', 'ner']\u001b[0m\n",
      "\u001b[38;5;4mℹ Initial learn rate: 0.001\u001b[0m\n",
      "E    #       LOSS TOK2VEC  LOSS NER  ENTS_F  ENTS_P  ENTS_R  SCORE \n",
      "---  ------  ------------  --------  ------  ------  ------  ------\n",
      "  0       0          0.00     43.45    0.00    0.00    0.00    0.00\n",
      "  1     200        170.70   1780.56   48.55   50.18   47.02    0.49\n",
      "  2     400       3209.06   1686.26   55.38   69.50   46.03    0.55\n",
      "  4     600       1589.97   1175.38   85.38   86.17   84.60    0.85\n",
      "  7     800        233.17    651.67   90.48   91.25   89.74    0.90\n",
      " 10    1000        424.34    468.80   95.67   94.36   97.02    0.96\n",
      " 14    1200        863.40    349.70   96.78   96.54   97.02    0.97\n",
      " 19    1400        181.93    295.76   97.18   97.34   97.02    0.97\n",
      " 26    1600        101.28    169.77   99.50   99.67   99.34    1.00\n",
      " 33    1800        154.50    174.12   99.25   99.67   98.84    0.99\n",
      " 43    2000        791.85    130.43   99.50   99.67   99.34    1.00\n",
      " 55    2200         84.29     58.67  100.00  100.00  100.00    1.00\n",
      " 69    2400        112.01     50.31   99.92  100.00   99.83    1.00\n",
      " 83    2600        294.27     95.26  100.00  100.00  100.00    1.00\n",
      " 97    2800         87.82     44.38   99.50   99.34   99.67    1.00\n",
      "112    3000        257.31    100.12  100.00  100.00  100.00    1.00\n",
      "126    3200        449.72    169.88   99.67   99.67   99.67    1.00\n",
      "140    3400        486.93    212.10  100.00  100.00  100.00    1.00\n",
      "155    3600         31.35     10.50  100.00  100.00  100.00    1.00\n",
      "169    3800          6.42      2.06  100.00  100.00  100.00    1.00\n",
      "\u001b[38;5;2m✔ Saved pipeline to output directory\u001b[0m\n",
      "model-last\n"
     ]
    }
   ],
   "source": [
    "!python3 -m spacy train config.cfg --output ./ --paths.train ./training_data.spacy --paths.dev ./training_data.spacy"
   ]
  },
  {
   "cell_type": "code",
   "execution_count": 1,
   "metadata": {},
   "outputs": [],
   "source": [
    "import spacy\n",
    "import NER_extraction\n",
    "\n",
    "NER_extraction.set_nlp(\"model-best\")\n",
    "NER_extraction.set_output(\"Data/Processed_Data/healthcare_articles_with_custom_entities.csv\")\n",
    "\n",
    "custom_ner = NER_extraction.extract()"
   ]
  },
  {
   "cell_type": "markdown",
   "metadata": {},
   "source": [
    "Read and label articles from healthcare_articles_with_custom_entities.csv "
   ]
  },
  {
   "cell_type": "code",
   "execution_count": null,
   "metadata": {},
   "outputs": [],
   "source": [
    "from FinBERT_csv import process_csv\n",
    "\n",
    "finbert = process_csv()"
   ]
  },
  {
   "cell_type": "code",
   "execution_count": null,
   "metadata": {},
   "outputs": [],
   "source": [
    "from HBERT import main\n",
    "\n",
    "hbert = main()"
   ]
  },
  {
   "cell_type": "code",
   "execution_count": null,
   "metadata": {},
   "outputs": [],
   "source": [
    "from LSTM import main\n",
    "\n",
    "eval  = main()"
   ]
  }
 ],
 "metadata": {
  "kernelspec": {
   "display_name": "Python 3 (ipykernel)",
   "language": "python",
   "name": "python3"
  },
  "language_info": {
   "codemirror_mode": {
    "name": "ipython",
    "version": 3
   },
   "file_extension": ".py",
   "mimetype": "text/x-python",
   "name": "python",
   "nbconvert_exporter": "python",
   "pygments_lexer": "ipython3",
   "version": "3.10.12"
  }
 },
 "nbformat": 4,
 "nbformat_minor": 4
}

{
 "cells": [
  {
   "cell_type": "markdown",
   "id": "f58f4dd3-d413-4691-8587-b1a9a2089c36",
   "metadata": {},
   "source": [
    "Set up Yahoo finance API and collect initial dataset (news + stock price)"
   ]
  },
  {
   "cell_type": "code",
   "execution_count": 7,
   "id": "27f53c50-c4d0-4d99-aa82-f551357c7650",
   "metadata": {},
   "outputs": [],
   "source": [
    "#pip install yfinance\n",
    "#pip install yahooquery"
   ]
  },
  {
   "cell_type": "code",
   "execution_count": null,
   "id": "93ae7b91-bfdf-427b-8d7c-c06a425b5da9",
   "metadata": {},
   "outputs": [],
   "source": [
    "import yfinance as yf\n",
    "from datetime import datetime\n",
    "\n"
   ]
  },
  {
   "cell_type": "code",
   "execution_count": 9,
   "id": "d1acb26f-3bef-4acc-999f-c80bd87c8754",
   "metadata": {},
   "outputs": [
    {
     "name": "stdout",
     "output_type": "stream",
     "text": [
      "       0\n",
      "0  error\n"
     ]
    }
   ],
   "source": [
    "from yahooquery import Ticker\n",
    "import pandas as pd\n",
    "from datetime import datetime\n",
    "\n",
    "# Define stock ticker\n",
    "ticker = \"AAPL\"\n",
    "\n",
    "# Fetch news\n",
    "stock = Ticker(ticker)\n",
    "news_data = stock.news()\n",
    "\n",
    "# ✅ Check if news_data is valid\n",
    "if not news_data or not isinstance(news_data, list):\n",
    "    print(\"No news data found or incorrect format.\")\n",
    "else:\n",
    "    # Convert timestamp to readable format\n",
    "    for item in news_data:\n",
    "        if \"providerPublishTime\" in item:\n",
    "            item[\"providerPublishTime\"] = datetime.fromtimestamp(item[\"providerPublishTime\"]).strftime('%Y-%m-%d %H:%M:%S')\n",
    "\n",
    "    # Convert to DataFrame and Save\n",
    "    df_news = pd.DataFrame(news_data)\n",
    "    df_news.to_csv(\"AAPL_news.csv\", index=False)\n",
    "\n",
    "    print(df_news.head())\n"
   ]
  }
 ],
 "metadata": {
  "kernelspec": {
   "display_name": "Python 3 (ipykernel)",
   "language": "python",
   "name": "python3"
  },
  "language_info": {
   "codemirror_mode": {
    "name": "ipython",
    "version": 3
   },
   "file_extension": ".py",
   "mimetype": "text/x-python",
   "name": "python",
   "nbconvert_exporter": "python",
   "pygments_lexer": "ipython3",
   "version": "3.12.7"
  }
 },
 "nbformat": 4,
 "nbformat_minor": 5
}

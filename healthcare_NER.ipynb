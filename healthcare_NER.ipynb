{
 "cells": [
  {
   "cell_type": "markdown",
   "metadata": {},
   "source": [
    "reference for training custom NER \n",
    "\n",
    "https://github.com/amrrs/custom-ner-with-spacy3/blob/main/Custom_NER_with_Spacy3.ipynb"
   ]
  },
  {
   "cell_type": "code",
   "execution_count": 1,
   "metadata": {},
   "outputs": [],
   "source": [
    "!pip install -U spacy -q"
   ]
  },
  {
   "cell_type": "code",
   "execution_count": 2,
   "metadata": {},
   "outputs": [
    {
     "name": "stdout",
     "output_type": "stream",
     "text": [
      "\u001b[1m\n",
      "============================== Info about spaCy ==============================\u001b[0m\n",
      "\n",
      "spaCy version    3.8.3                         \n",
      "Location         f:\\sfu\\python\\lib\\site-packages\\spacy\n",
      "Platform         Windows-10-10.0.19045-SP0     \n",
      "Python version   3.9.5                         \n",
      "Pipelines        en_core_web_sm (3.8.0)        \n",
      "\n"
     ]
    }
   ],
   "source": [
    "!python -m spacy info"
   ]
  },
  {
   "cell_type": "code",
   "execution_count": 3,
   "metadata": {},
   "outputs": [],
   "source": [
    "import spacy\n",
    "from spacy.tokens import DocBin\n",
    "from tqdm import tqdm\n",
    "\n",
    "nlp = spacy.blank(\"en\") # load a new spacy model\n",
    "db = DocBin() # create a DocBin object"
   ]
  },
  {
   "cell_type": "code",
   "execution_count": 36,
   "metadata": {},
   "outputs": [],
   "source": [
    "import json\n",
    "with open('healthcare_annotations.json', encoding='utf-8') as f:\n",
    "    TRAIN_DATA = json.load(f)"
   ]
  },
  {
   "cell_type": "code",
   "execution_count": 37,
   "metadata": {},
   "outputs": [
    {
     "name": "stderr",
     "output_type": "stream",
     "text": [
      "100%|██████████| 25/25 [00:00<00:00, 373.20it/s]\n"
     ]
    }
   ],
   "source": [
    "#remove null values\n",
    "filtered_annotations = [item for item in TRAIN_DATA['annotations'] if item is not None]\n",
    "\n",
    "for text, annot in tqdm(filtered_annotations): \n",
    "    doc = nlp.make_doc(text) \n",
    "    ents = []\n",
    "    for start, end, label in annot[\"entities\"]:\n",
    "        span = doc.char_span(start, end, label=label, alignment_mode=\"contract\")\n",
    "        if span is None:\n",
    "            print(\"Skipping entity\")\n",
    "        else:\n",
    "            ents.append(span)\n",
    "    doc.ents = ents \n",
    "    db.add(doc)\n",
    "\n",
    "db.to_disk(\"./training_data.spacy\") # save the docbin object"
   ]
  },
  {
   "cell_type": "code",
   "execution_count": 25,
   "metadata": {},
   "outputs": [
    {
     "name": "stdout",
     "output_type": "stream",
     "text": [
      "\u001b[38;5;4mℹ Generated config template specific for your use case\u001b[0m\n",
      "- Language: en\n",
      "- Pipeline: ner\n",
      "- Optimize for: accuracy\n",
      "- Hardware: CPU\n",
      "- Transformer: None\n",
      "\u001b[38;5;2m✔ Auto-filled config with all values\u001b[0m\n",
      "\u001b[38;5;2m✔ Saved config\u001b[0m\n",
      "config.cfg\n",
      "You can now add your data and train your pipeline:\n",
      "python -m spacy train config.cfg --paths.train ./train.spacy --paths.dev ./dev.spacy\n"
     ]
    }
   ],
   "source": [
    "! python -m spacy init config config.cfg --lang en --pipeline ner --optimize accuracy --force"
   ]
  },
  {
   "cell_type": "code",
   "execution_count": 27,
   "metadata": {},
   "outputs": [
    {
     "name": "stdout",
     "output_type": "stream",
     "text": [
      "Collecting en-core-web-lg==3.8.0\n",
      "  Downloading https://github.com/explosion/spacy-models/releases/download/en_core_web_lg-3.8.0/en_core_web_lg-3.8.0-py3-none-any.whl (400.7 MB)\n",
      "Installing collected packages: en-core-web-lg\n",
      "Successfully installed en-core-web-lg-3.8.0\n",
      "\u001b[38;5;2m✔ Download and installation successful\u001b[0m\n",
      "You can now load the package via spacy.load('en_core_web_lg')\n"
     ]
    }
   ],
   "source": [
    "!python -m spacy download en_core_web_lg"
   ]
  },
  {
   "cell_type": "code",
   "execution_count": 38,
   "metadata": {},
   "outputs": [
    {
     "name": "stdout",
     "output_type": "stream",
     "text": [
      "\u001b[38;5;4mℹ Saving to output directory: .\u001b[0m\n",
      "\u001b[38;5;4mℹ Using CPU\u001b[0m\n",
      "\u001b[1m\n",
      "=========================== Initializing pipeline ===========================\u001b[0m\n",
      "\u001b[38;5;2m✔ Initialized pipeline\u001b[0m\n",
      "\u001b[1m\n",
      "============================= Training pipeline =============================\u001b[0m\n",
      "\u001b[38;5;4mℹ Pipeline: ['tok2vec', 'ner']\u001b[0m\n",
      "\u001b[38;5;4mℹ Initial learn rate: 0.001\u001b[0m\n",
      "E    #       LOSS TOK2VEC  LOSS NER  ENTS_F  ENTS_P  ENTS_R  SCORE \n",
      "---  ------  ------------  --------  ------  ------  ------  ------\n",
      "  0       0          0.00     14.13    0.80    0.42    7.69    0.01\n",
      "  4     200       1603.61   3370.43   53.96   57.86   50.55    0.54\n",
      " 10     400        910.54    958.96   82.49   89.68   76.37    0.82\n",
      " 17     600       5565.00   1199.09   85.31   87.79   82.97    0.85\n",
      " 26     800         76.35    688.89   85.71   87.43   84.07    0.86\n",
      " 37    1000         88.71    833.93   85.16   85.16   85.16    0.85\n",
      " 52    1200        407.20   1100.99   87.72   93.75   82.42    0.88\n",
      " 70    1400        137.63   1067.85   86.38   91.41   81.87    0.86\n",
      " 93    1600         55.62   1163.27   87.89   84.34   91.76    0.88\n",
      "121    1800         48.50   1290.47   88.40   88.89   87.91    0.88\n",
      "156    2000         51.61   1588.48   87.96   84.00   92.31    0.88\n",
      "198    2200         52.01   1828.53   86.93   90.00   84.07    0.87\n",
      "248    2400         45.06   2144.34   88.46   88.46   88.46    0.88\n",
      "298    2600         52.13   2150.77   87.57   90.12   85.16    0.88\n",
      "348    2800         38.97   2058.40   88.20   90.23   86.26    0.88\n",
      "398    3000         42.36   2096.84   88.95   87.30   90.66    0.89\n",
      "448    3200        662.13   2065.93   88.54   84.16   93.41    0.89\n",
      "498    3400        105.80   2015.35   88.76   90.80   86.81    0.89\n",
      "548    3600         63.04   2026.66   88.51   92.77   84.62    0.89\n",
      "598    3800         39.84   1964.20   88.40   88.89   87.91    0.88\n",
      "648    4000         36.05   1962.36   88.02   96.71   80.77    0.88\n",
      "698    4200         38.40   1936.41   88.83   90.34   87.36    0.89\n",
      "748    4400         41.06   1995.50   89.13   88.17   90.11    0.89\n",
      "798    4600         37.96   1925.46   88.59   87.63   89.56    0.89\n",
      "848    4800         45.05   1972.21   88.64   91.76   85.71    0.89\n",
      "898    5000         43.21   1933.56   87.72   93.75   82.42    0.88\n",
      "948    5200         45.34   1969.97   88.95   85.35   92.86    0.89\n",
      "998    5400         43.70   1938.50   87.93   92.17   84.07    0.88\n",
      "1048    5600         61.07   1964.81   89.30   86.98   91.76    0.89\n",
      "1098    5800         61.23   1950.09   88.89   89.89   87.91    0.89\n",
      "1148    6000         63.70   1954.01   88.20   90.23   86.26    0.88\n",
      "1198    6200         87.78   1929.85   89.62   89.13   90.11    0.90\n",
      "1248    6400        232.21   1867.28   89.14   92.86   85.71    0.89\n",
      "1298    6600         60.09   1843.66   89.84   87.50   92.31    0.90\n",
      "1348    6800         50.90   1843.11   89.08   93.37   85.16    0.89\n",
      "1398    7000         67.40   1872.00   89.56   89.56   89.56    0.90\n",
      "1448    7200         57.02   1862.96   88.52   88.04   89.01    0.89\n",
      "1498    7400         71.58   1834.50   89.33   91.38   87.36    0.89\n",
      "1548    7600         54.57   1845.61   89.73   88.30   91.21    0.90\n",
      "1598    7800         97.43   1886.74   89.27   91.86   86.81    0.89\n",
      "1648    8000         68.05   1834.81   88.95   94.44   84.07    0.89\n",
      "1698    8200        156.69   1846.50   89.67   88.71   90.66    0.90\n",
      "\u001b[38;5;2m✔ Saved pipeline to output directory\u001b[0m\n",
      "model-last\n"
     ]
    }
   ],
   "source": [
    "! python -m spacy train config.cfg --output ./ --paths.train ./training_data.spacy --paths.dev ./training_data.spacy"
   ]
  },
  {
   "cell_type": "code",
   "execution_count": 39,
   "metadata": {},
   "outputs": [],
   "source": [
    "nlp_ner = spacy.load(\"model-best\") "
   ]
  },
  {
   "cell_type": "code",
   "execution_count": null,
   "metadata": {},
   "outputs": [],
   "source": [
    "import pandas as pd\n",
    "\n",
    "df = pd.read_csv('Datasets/Health_News/Health_News.csv')\n",
    "\n",
    "sample_text = df[\"content\"].iloc[247]\n",
    "\n",
    "doc = nlp_ner(\"\"\"\n",
    "\n",
    "RARITAN, N.J. - Johnson & Johnson (NYSE:JNJ) has revealed promising overall survival (OS) results from its Phase 3 MARIPOSA study, which could transform the treatment landscape for patients with advanced non-small cell lung cancer (NSCLC). The study showed that the combination of RYBREVANT® (amivantamab-vmjw) and LAZCLUZE™ (lazertinib) significantly improved survival outcomes compared to the current standard treatment, osimertinib.\n",
    "\n",
    "The data, expected to be presented at the European Lung Cancer Congress (ELCC) in 2025, suggests that patients with locally advanced or metastatic NSCLC with specific EGFR mutations could benefit from this new treatment regimen. With an EBITDA of nearly $30 billion in the last twelve months, Johnson & Johnson demonstrates the financial strength needed to support its extensive research and development initiatives. InvestingPro analysis reveals the company maintains a \"GOOD\" financial health score, suggesting strong operational stability. Dr. Yusri Elsayed, Global Therapeutic Area Head of Oncology at Johnson & Johnson Innovative Medicine, emphasized the potential for these therapies to extend patients’ lives beyond what current treatments offer.\n",
    "\n",
    "In addition to the MARIPOSA study, Johnson & Johnson will also present findings from the Phase 2 COCOON study, which evaluated a dermatologic regimen to prevent skin reactions in patients receiving the RYBREVANT® combination therapy. The regimen met its primary endpoint, enhancing patient experience by managing side effects more effectively.\n",
    "\n",
    "The company’s extensive clinical trial program continues to explore RYBREVANT® in various combinations and settings, including the Phase 2 PALOMA-2 study, which assesses the feasibility of switching to a subcutaneous form of amivantamab.\n",
    "\n",
    "RYBREVANT® has received approvals in the U.S., Europe, and other global markets for several indications related to NSCLC treatment. The European Medicines Agency’s Committee for Medicinal Products for Human Use (CHMP) recommended approval of a subcutaneous formulation of amivantamab and LAZCLUZE™ for first-line treatment of adult patients with advanced NSCLC harboring specific EGFR mutations.\n",
    "\n",
    "The National Comprehensive Cancer Network® (NCCN®) has included RYBREVANT® and LAZCLUZE™ as a Category 1 recommendation for first-line therapy in patients with NSCLC with certain EGFR mutations.\n",
    "\n",
    "The announcement is based on a press release statement and provides a glimpse into the ongoing efforts to enhance cancer treatment options and improve patient outcomes.\n",
    "\n",
    "For further information on the safety and prescribing information for RYBREVANT® and LAZCLUZE™, healthcare professionals are directed to the full prescribing information provided by Janssen Biotech, Inc. For investors seeking deeper insights, InvestingPro offers comprehensive analysis of Johnson & Johnson’s financial performance, including over 30 additional exclusive ProTips and detailed valuation metrics. The company currently offers a 3.04% dividend yield and trades near its 52-week high, reflecting strong market confidence in its pipeline developments.\n",
    "\n",
    "In other recent news, Johnson & Johnson has received Fast Track designation from the U.S. Food and Drug Administration for nipocalimab, aimed at treating moderate-to-severe Sjögren’s disease. This follows the Breakthrough Therapy designation granted in 2024, underscoring the FDA’s support for the drug’s rapid development. Meanwhile, RBC Capital Markets has maintained its Outperform rating on Johnson & Johnson, highlighting the potential $5 billion annual sales opportunity for Icotrokinra, which could significantly contribute to the company’s growth from 2025 to 2030.\n",
    "\n",
    "In another development, Johnson & Johnson decided not to exercise its option to license Genmab’s HexaBody-CD38, following a clinical proof-of-concept study. Despite promising initial data, the decision was based on an evaluation of the drug’s clinical data and market landscape. Additionally, Johnson & Johnson reported positive results from its Phase 2b ANTHEM-UC trial for icotrokinra in ulcerative colitis, achieving a 63.5% clinical response rate at the highest dose.\n",
    "\n",
    "Furthermore, Guggenheim Securities downgraded Neumora Therapeutics to Neutral after Johnson & Johnson discontinued its Phase 3 VENTURA program for aticaprant in major depressive disorder due to insufficient efficacy. This decision influenced Guggenheim’s outlook on Neumora’s own drug development efforts. These recent developments highlight Johnson & Johnson’s ongoing efforts in healthcare innovation and strategic decisions in drug development.\n",
    "\n",
    "This article was generated with the support of AI and reviewed by an editor. For more information see our T&C.\n",
    "              ”\"\"\")"
   ]
  },
  {
   "cell_type": "code",
   "execution_count": 50,
   "metadata": {},
   "outputs": [
    {
     "data": {
      "text/html": [
       "<span class=\"tex2jax_ignore\"><div class=\"entities\" style=\"line-height: 2.5; direction: ltr\"><br>              <br>Search the website...<br><br>Get 45% Off<br><br>Sign In<br><br>Free Sign Up<br><br><br>Markets<br>My Watchlist<br>Investing Challenges<br>News<br>Analysis<br>Charts<br>Technical<br>Brokers<br>Tools<br>Academy<br>Stock Screener<br>Economic Calendar<br>More<br>Breaking News<br>Currencies<br>Commodities<br>Stock Markets<br>Economic Indicators<br>Economy<br>\n",
       "<mark class=\"entity\" style=\"background: #ddd; padding: 0.45em 0.6em; margin: 0 0.25em; line-height: 1; border-radius: 0.35em;\">\n",
       "    Cryptocurrency\n",
       "Insider\n",
       "    <span style=\"font-size: 0.8em; font-weight: bold; line-height: 1; border-radius: 0.35em; vertical-align: middle; margin-left: 0.5rem\">MEDICINE</span>\n",
       "</mark>\n",
       " Trading<br>Company News<br>Earnings<br>Investment Ideas<br>SWOT Analysis<br>Analyst Ratings<br>Transcripts<br>⚔ Trade war-resistant stocks: Our screener found these winners<br>See Stocks<br>\n",
       "<mark class=\"entity\" style=\"background: #ddd; padding: 0.45em 0.6em; margin: 0 0.25em; line-height: 1; border-radius: 0.35em;\">\n",
       "    Johnson &amp; Johnson\n",
       "    <span style=\"font-size: 0.8em; font-weight: bold; line-height: 1; border-radius: 0.35em; vertical-align: middle; margin-left: 0.5rem\">PHARMACEUTICAL COMPANY</span>\n",
       "</mark>\n",
       " announces breakthrough in lung cancer treatment<br>Company News<br>Published 03/20/2025, 08:05 AM<br>\n",
       "<mark class=\"entity\" style=\"background: #ddd; padding: 0.45em 0.6em; margin: 0 0.25em; line-height: 1; border-radius: 0.35em;\">\n",
       "    Johnson &amp; Johnson\n",
       "    <span style=\"font-size: 0.8em; font-weight: bold; line-height: 1; border-radius: 0.35em; vertical-align: middle; margin-left: 0.5rem\">PHARMACEUTICAL COMPANY</span>\n",
       "</mark>\n",
       " announces breakthrough in lung cancer treatment<br><br><br>0<br>JNJ<br>0.02%<br><br>Johnson \n",
       "<mark class=\"entity\" style=\"background: #ddd; padding: 0.45em 0.6em; margin: 0 0.25em; line-height: 1; border-radius: 0.35em;\">\n",
       "    &amp; Johnson announces\n",
       "    <span style=\"font-size: 0.8em; font-weight: bold; line-height: 1; border-radius: 0.35em; vertical-align: middle; margin-left: 0.5rem\">PHARMACEUTICAL COMPANY</span>\n",
       "</mark>\n",
       " breakthrough in lung cancer treatment<br>\n",
       "<mark class=\"entity\" style=\"background: #ddd; padding: 0.45em 0.6em; margin: 0 0.25em; line-height: 1; border-radius: 0.35em;\">\n",
       "    Johnson &amp; Johnson\n",
       "    <span style=\"font-size: 0.8em; font-weight: bold; line-height: 1; border-radius: 0.35em; vertical-align: middle; margin-left: 0.5rem\">PHARMACEUTICAL COMPANY</span>\n",
       "</mark>\n",
       " announces breakthrough in lung cancer treatment<br><br>JNJ<br>0.02%<br><br>RARITAN, \n",
       "<mark class=\"entity\" style=\"background: #ddd; padding: 0.45em 0.6em; margin: 0 0.25em; line-height: 1; border-radius: 0.35em;\">\n",
       "    N.J. - Johnson &amp; Johnson\n",
       "    <span style=\"font-size: 0.8em; font-weight: bold; line-height: 1; border-radius: 0.35em; vertical-align: middle; margin-left: 0.5rem\">MEDICINE</span>\n",
       "</mark>\n",
       " (NYSE:JNJ) has revealed promising overall survival (OS) results from its Phase 3 MARIPOSA study, which could transform the treatment landscape for patients with advanced non-small cell lung cancer (NSCLC). The study showed that the combination of \n",
       "<mark class=\"entity\" style=\"background: #ddd; padding: 0.45em 0.6em; margin: 0 0.25em; line-height: 1; border-radius: 0.35em;\">\n",
       "    RYBREVANT®\n",
       "    <span style=\"font-size: 0.8em; font-weight: bold; line-height: 1; border-radius: 0.35em; vertical-align: middle; margin-left: 0.5rem\">MEDICINE</span>\n",
       "</mark>\n",
       " (\n",
       "<mark class=\"entity\" style=\"background: #ddd; padding: 0.45em 0.6em; margin: 0 0.25em; line-height: 1; border-radius: 0.35em;\">\n",
       "    amivantamab\n",
       "    <span style=\"font-size: 0.8em; font-weight: bold; line-height: 1; border-radius: 0.35em; vertical-align: middle; margin-left: 0.5rem\">MEDICINE</span>\n",
       "</mark>\n",
       "-vmjw) and LAZCLUZE™ (\n",
       "<mark class=\"entity\" style=\"background: #ddd; padding: 0.45em 0.6em; margin: 0 0.25em; line-height: 1; border-radius: 0.35em;\">\n",
       "    lazertinib\n",
       "    <span style=\"font-size: 0.8em; font-weight: bold; line-height: 1; border-radius: 0.35em; vertical-align: middle; margin-left: 0.5rem\">MEDICINE</span>\n",
       "</mark>\n",
       ") significantly improved survival outcomes compared to the current standard treatment, \n",
       "<mark class=\"entity\" style=\"background: #ddd; padding: 0.45em 0.6em; margin: 0 0.25em; line-height: 1; border-radius: 0.35em;\">\n",
       "    osimertinib\n",
       "    <span style=\"font-size: 0.8em; font-weight: bold; line-height: 1; border-radius: 0.35em; vertical-align: middle; margin-left: 0.5rem\">MEDICINE</span>\n",
       "</mark>\n",
       ".<br><br>The data, expected to be presented at the European Lung Cancer Congress (ELCC) in 2025, suggests that patients with locally advanced or metastatic NSCLC with specific EGFR mutations could benefit from this new treatment regimen. With an EBITDA of nearly $30 billion in the last twelve months, \n",
       "<mark class=\"entity\" style=\"background: #ddd; padding: 0.45em 0.6em; margin: 0 0.25em; line-height: 1; border-radius: 0.35em;\">\n",
       "    Johnson &amp; Johnson\n",
       "    <span style=\"font-size: 0.8em; font-weight: bold; line-height: 1; border-radius: 0.35em; vertical-align: middle; margin-left: 0.5rem\">PHARMACEUTICAL COMPANY</span>\n",
       "</mark>\n",
       " demonstrates the financial strength needed to support its extensive research and development initiatives. InvestingPro analysis reveals the company maintains a &quot;GOOD&quot; financial health score, suggesting strong operational stability. Dr. Yusri Elsayed, Global Therapeutic Area Head of Oncology at \n",
       "<mark class=\"entity\" style=\"background: #ddd; padding: 0.45em 0.6em; margin: 0 0.25em; line-height: 1; border-radius: 0.35em;\">\n",
       "    Johnson &amp; Johnson\n",
       "    <span style=\"font-size: 0.8em; font-weight: bold; line-height: 1; border-radius: 0.35em; vertical-align: middle; margin-left: 0.5rem\">PHARMACEUTICAL COMPANY</span>\n",
       "</mark>\n",
       " Innovative Medicine, emphasized the potential for these therapies to extend patients’ lives beyond what current treatments offer.<br><br>In addition to the MARIPOSA study, \n",
       "<mark class=\"entity\" style=\"background: #ddd; padding: 0.45em 0.6em; margin: 0 0.25em; line-height: 1; border-radius: 0.35em;\">\n",
       "    Johnson &amp; Johnson\n",
       "    <span style=\"font-size: 0.8em; font-weight: bold; line-height: 1; border-radius: 0.35em; vertical-align: middle; margin-left: 0.5rem\">PHARMACEUTICAL COMPANY</span>\n",
       "</mark>\n",
       " will also present findings from the Phase 2 COCOON study, which evaluated a dermatologic regimen to prevent skin reactions in patients receiving the \n",
       "<mark class=\"entity\" style=\"background: #ddd; padding: 0.45em 0.6em; margin: 0 0.25em; line-height: 1; border-radius: 0.35em;\">\n",
       "    RYBREVANT®\n",
       "    <span style=\"font-size: 0.8em; font-weight: bold; line-height: 1; border-radius: 0.35em; vertical-align: middle; margin-left: 0.5rem\">MEDICINE</span>\n",
       "</mark>\n",
       " combination therapy. The regimen met its primary endpoint, enhancing patient experience by managing side effects more effectively.<br><br>The company’s extensive clinical trial program continues to explore \n",
       "<mark class=\"entity\" style=\"background: #ddd; padding: 0.45em 0.6em; margin: 0 0.25em; line-height: 1; border-radius: 0.35em;\">\n",
       "    RYBREVANT®\n",
       "    <span style=\"font-size: 0.8em; font-weight: bold; line-height: 1; border-radius: 0.35em; vertical-align: middle; margin-left: 0.5rem\">MEDICINE</span>\n",
       "</mark>\n",
       " in various combinations and settings, including the Phase 2 PALOMA-2 study, which assesses the feasibility of switching to a subcutaneous form of \n",
       "<mark class=\"entity\" style=\"background: #ddd; padding: 0.45em 0.6em; margin: 0 0.25em; line-height: 1; border-radius: 0.35em;\">\n",
       "    amivantamab.\n",
       "    <span style=\"font-size: 0.8em; font-weight: bold; line-height: 1; border-radius: 0.35em; vertical-align: middle; margin-left: 0.5rem\">MEDICINE</span>\n",
       "</mark>\n",
       "<br><br>\n",
       "<mark class=\"entity\" style=\"background: #ddd; padding: 0.45em 0.6em; margin: 0 0.25em; line-height: 1; border-radius: 0.35em;\">\n",
       "    RYBREVANT®\n",
       "    <span style=\"font-size: 0.8em; font-weight: bold; line-height: 1; border-radius: 0.35em; vertical-align: middle; margin-left: 0.5rem\">MEDICINE</span>\n",
       "</mark>\n",
       " has received approvals in the U.S., Europe, and other global markets for several indications related to NSCLC treatment. The European Medicines Agency’s Committee for Medicinal Products for Human Use (CHMP) recommended approval of a subcutaneous formulation of \n",
       "<mark class=\"entity\" style=\"background: #ddd; padding: 0.45em 0.6em; margin: 0 0.25em; line-height: 1; border-radius: 0.35em;\">\n",
       "    amivantamab\n",
       "    <span style=\"font-size: 0.8em; font-weight: bold; line-height: 1; border-radius: 0.35em; vertical-align: middle; margin-left: 0.5rem\">MEDICINE</span>\n",
       "</mark>\n",
       " and LAZCLUZE™ for first-line treatment of adult patients with advanced NSCLC harboring specific EGFR mutations.<br><br>The National Comprehensive Cancer Network® (NCCN®) has included \n",
       "<mark class=\"entity\" style=\"background: #ddd; padding: 0.45em 0.6em; margin: 0 0.25em; line-height: 1; border-radius: 0.35em;\">\n",
       "    RYBREVANT\n",
       "    <span style=\"font-size: 0.8em; font-weight: bold; line-height: 1; border-radius: 0.35em; vertical-align: middle; margin-left: 0.5rem\">MEDICINE</span>\n",
       "</mark>\n",
       "® and LAZCLUZE™ as a Category 1 recommendation for first-line therapy in patients with NSCLC with certain EGFR mutations.<br><br>The announcement is based on a press release statement and provides a glimpse into the ongoing efforts to enhance cancer treatment options and improve patient outcomes.<br><br>For further information on the safety and prescribing information for \n",
       "<mark class=\"entity\" style=\"background: #ddd; padding: 0.45em 0.6em; margin: 0 0.25em; line-height: 1; border-radius: 0.35em;\">\n",
       "    RYBREVANT\n",
       "    <span style=\"font-size: 0.8em; font-weight: bold; line-height: 1; border-radius: 0.35em; vertical-align: middle; margin-left: 0.5rem\">MEDICINE</span>\n",
       "</mark>\n",
       "® and LAZCLUZE™, healthcare professionals are directed to the full prescribing information provided by Janssen Biotech, Inc. For investors seeking deeper insights, InvestingPro offers comprehensive analysis of \n",
       "<mark class=\"entity\" style=\"background: #ddd; padding: 0.45em 0.6em; margin: 0 0.25em; line-height: 1; border-radius: 0.35em;\">\n",
       "    Johnson &amp; Johnson\n",
       "    <span style=\"font-size: 0.8em; font-weight: bold; line-height: 1; border-radius: 0.35em; vertical-align: middle; margin-left: 0.5rem\">PHARMACEUTICAL COMPANY</span>\n",
       "</mark>\n",
       "’s financial performance, including over 30 additional exclusive ProTips and detailed valuation metrics. The company currently offers a 3.04% dividend yield and trades near its 52-week high, reflecting strong market confidence in its pipeline developments.<br><br>In other recent news, \n",
       "<mark class=\"entity\" style=\"background: #ddd; padding: 0.45em 0.6em; margin: 0 0.25em; line-height: 1; border-radius: 0.35em;\">\n",
       "    Johnson &amp; Johnson\n",
       "    <span style=\"font-size: 0.8em; font-weight: bold; line-height: 1; border-radius: 0.35em; vertical-align: middle; margin-left: 0.5rem\">PHARMACEUTICAL COMPANY</span>\n",
       "</mark>\n",
       " has received Fast Track designation from the U.S. Food and Drug Administration for nipocalimab, aimed at treating moderate-to-severe Sjögren’s disease. This follows the Breakthrough Therapy designation granted in 2024, underscoring the \n",
       "<mark class=\"entity\" style=\"background: #ddd; padding: 0.45em 0.6em; margin: 0 0.25em; line-height: 1; border-radius: 0.35em;\">\n",
       "    FDA\n",
       "    <span style=\"font-size: 0.8em; font-weight: bold; line-height: 1; border-radius: 0.35em; vertical-align: middle; margin-left: 0.5rem\">HEALTH ORGANIZATION</span>\n",
       "</mark>\n",
       "’s support for the drug’s rapid development. Meanwhile, RBC Capital Markets has maintained its Outperform rating on \n",
       "<mark class=\"entity\" style=\"background: #ddd; padding: 0.45em 0.6em; margin: 0 0.25em; line-height: 1; border-radius: 0.35em;\">\n",
       "    Johnson &amp; Johnson\n",
       "    <span style=\"font-size: 0.8em; font-weight: bold; line-height: 1; border-radius: 0.35em; vertical-align: middle; margin-left: 0.5rem\">PHARMACEUTICAL COMPANY</span>\n",
       "</mark>\n",
       ", highlighting the potential $5 billion annual sales opportunity for Icotrokinra, which could significantly contribute to the company’s growth from 2025 to 2030.<br><br>In another development, \n",
       "<mark class=\"entity\" style=\"background: #ddd; padding: 0.45em 0.6em; margin: 0 0.25em; line-height: 1; border-radius: 0.35em;\">\n",
       "    Johnson &amp; Johnson\n",
       "    <span style=\"font-size: 0.8em; font-weight: bold; line-height: 1; border-radius: 0.35em; vertical-align: middle; margin-left: 0.5rem\">PHARMACEUTICAL COMPANY</span>\n",
       "</mark>\n",
       " decided not to exercise its option to license \n",
       "<mark class=\"entity\" style=\"background: #ddd; padding: 0.45em 0.6em; margin: 0 0.25em; line-height: 1; border-radius: 0.35em;\">\n",
       "    Genmab’s\n",
       "    <span style=\"font-size: 0.8em; font-weight: bold; line-height: 1; border-radius: 0.35em; vertical-align: middle; margin-left: 0.5rem\">MEDICINE</span>\n",
       "</mark>\n",
       " HexaBody-CD38, following a clinical proof-of-concept study. Despite promising initial data, the decision was based on an evaluation of the drug’s clinical data and market landscape. Additionally, \n",
       "<mark class=\"entity\" style=\"background: #ddd; padding: 0.45em 0.6em; margin: 0 0.25em; line-height: 1; border-radius: 0.35em;\">\n",
       "    Johnson &amp; Johnson\n",
       "    <span style=\"font-size: 0.8em; font-weight: bold; line-height: 1; border-radius: 0.35em; vertical-align: middle; margin-left: 0.5rem\">PHARMACEUTICAL COMPANY</span>\n",
       "</mark>\n",
       " reported positive results from its Phase 2b ANTHEM-UC trial for icotrokinra in \n",
       "<mark class=\"entity\" style=\"background: #ddd; padding: 0.45em 0.6em; margin: 0 0.25em; line-height: 1; border-radius: 0.35em;\">\n",
       "    ulcerative colitis\n",
       "    <span style=\"font-size: 0.8em; font-weight: bold; line-height: 1; border-radius: 0.35em; vertical-align: middle; margin-left: 0.5rem\">MEDICAL ISSUE</span>\n",
       "</mark>\n",
       ", achieving a 63.5% clinical response rate at the highest dose.<br><br>\n",
       "<mark class=\"entity\" style=\"background: #ddd; padding: 0.45em 0.6em; margin: 0 0.25em; line-height: 1; border-radius: 0.35em;\">\n",
       "    Furthermore\n",
       "    <span style=\"font-size: 0.8em; font-weight: bold; line-height: 1; border-radius: 0.35em; vertical-align: middle; margin-left: 0.5rem\">MEDICINE</span>\n",
       "</mark>\n",
       ", \n",
       "<mark class=\"entity\" style=\"background: #ddd; padding: 0.45em 0.6em; margin: 0 0.25em; line-height: 1; border-radius: 0.35em;\">\n",
       "    Guggenheim Securities\n",
       "    <span style=\"font-size: 0.8em; font-weight: bold; line-height: 1; border-radius: 0.35em; vertical-align: middle; margin-left: 0.5rem\">PHARMACEUTICAL COMPANY</span>\n",
       "</mark>\n",
       " downgraded Neumora Therapeutics to Neutral after Johnson \n",
       "<mark class=\"entity\" style=\"background: #ddd; padding: 0.45em 0.6em; margin: 0 0.25em; line-height: 1; border-radius: 0.35em;\">\n",
       "    &amp; Johnson discontinued\n",
       "    <span style=\"font-size: 0.8em; font-weight: bold; line-height: 1; border-radius: 0.35em; vertical-align: middle; margin-left: 0.5rem\">PHARMACEUTICAL COMPANY</span>\n",
       "</mark>\n",
       " its Phase 3 VENTURA program for aticaprant in major depressive disorder due to insufficient efficacy. This decision influenced Guggenheim’s outlook on Neumora’s own drug development efforts. These recent developments highlight \n",
       "<mark class=\"entity\" style=\"background: #ddd; padding: 0.45em 0.6em; margin: 0 0.25em; line-height: 1; border-radius: 0.35em;\">\n",
       "    Johnson &amp; Johnson\n",
       "    <span style=\"font-size: 0.8em; font-weight: bold; line-height: 1; border-radius: 0.35em; vertical-align: middle; margin-left: 0.5rem\">PHARMACEUTICAL COMPANY</span>\n",
       "</mark>\n",
       "’s ongoing efforts in healthcare innovation and strategic decisions in drug development.<br><br>This article was generated with the support of AI and reviewed by an editor. For more information see our T&amp;C.<br>              ”</div></span>"
      ],
      "text/plain": [
       "<IPython.core.display.HTML object>"
      ]
     },
     "metadata": {},
     "output_type": "display_data"
    }
   ],
   "source": [
    "spacy.displacy.render(doc, style=\"ent\", jupyter=True)"
   ]
  },
  {
   "cell_type": "code",
   "execution_count": null,
   "metadata": {},
   "outputs": [],
   "source": []
  }
 ],
 "metadata": {
  "kernelspec": {
   "display_name": "Python 3",
   "language": "python",
   "name": "python3"
  },
  "language_info": {
   "codemirror_mode": {
    "name": "ipython",
    "version": 3
   },
   "file_extension": ".py",
   "mimetype": "text/x-python",
   "name": "python",
   "nbconvert_exporter": "python",
   "pygments_lexer": "ipython3",
   "version": "3.9.5"
  }
 },
 "nbformat": 4,
 "nbformat_minor": 2
}

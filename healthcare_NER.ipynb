{
 "cells": [
  {
   "cell_type": "markdown",
   "metadata": {},
   "source": [
    "reference for training custom NER \n",
    "\n",
    "https://github.com/amrrs/custom-ner-with-spacy3/blob/main/Custom_NER_with_Spacy3.ipynb"
   ]
  },
  {
   "cell_type": "code",
   "execution_count": 1,
   "metadata": {},
   "outputs": [],
   "source": [
    "!pip install -U spacy -q"
   ]
  },
  {
   "cell_type": "code",
   "execution_count": 2,
   "metadata": {},
   "outputs": [
    {
     "name": "stdout",
     "output_type": "stream",
     "text": [
      "\u001b[1m\n",
      "============================== Info about spaCy ==============================\u001b[0m\n",
      "\n",
      "spaCy version    3.8.3                         \n",
      "Location         f:\\sfu\\python\\lib\\site-packages\\spacy\n",
      "Platform         Windows-10-10.0.19045-SP0     \n",
      "Python version   3.9.5                         \n",
      "Pipelines        en_core_web_sm (3.8.0)        \n",
      "\n"
     ]
    }
   ],
   "source": [
    "!python -m spacy info"
   ]
  },
  {
   "cell_type": "code",
   "execution_count": 3,
   "metadata": {},
   "outputs": [],
   "source": [
    "import spacy\n",
    "from spacy.tokens import DocBin\n",
    "from tqdm import tqdm\n",
    "\n",
    "nlp = spacy.blank(\"en\") # load a new spacy model\n",
    "db = DocBin() # create a DocBin object"
   ]
  },
  {
   "cell_type": "code",
   "execution_count": 11,
   "metadata": {},
   "outputs": [],
   "source": [
    "import json\n",
    "with open('healthcare_annotations.json', encoding='utf-8') as f:\n",
    "    TRAIN_DATA = json.load(f)"
   ]
  },
  {
   "cell_type": "code",
   "execution_count": 12,
   "metadata": {},
   "outputs": [
    {
     "name": "stderr",
     "output_type": "stream",
     "text": [
      "100%|██████████| 26/26 [00:00<00:00, 2597.53it/s]\n"
     ]
    }
   ],
   "source": [
    "#remove null values\n",
    "filtered_annotations = [item for item in TRAIN_DATA['annotations'] if item is not None]\n",
    "\n",
    "for text, annot in tqdm(filtered_annotations): \n",
    "    doc = nlp.make_doc(text) \n",
    "    ents = []\n",
    "    for start, end, label in annot[\"entities\"]:\n",
    "        span = doc.char_span(start, end, label=label, alignment_mode=\"contract\")\n",
    "        if span is None:\n",
    "            print(\"Skipping entity\")\n",
    "        else:\n",
    "            ents.append(span)\n",
    "    doc.ents = ents \n",
    "    db.add(doc)\n",
    "\n",
    "db.to_disk(\"./training_data.spacy\") # save the docbin object"
   ]
  },
  {
   "cell_type": "code",
   "execution_count": 13,
   "metadata": {},
   "outputs": [
    {
     "name": "stdout",
     "output_type": "stream",
     "text": [
      "\u001b[38;5;4mℹ Generated config template specific for your use case\u001b[0m\n",
      "- Language: en\n",
      "- Pipeline: ner\n",
      "- Optimize for: accuracy\n",
      "- Hardware: CPU\n",
      "- Transformer: None\n",
      "\u001b[38;5;2m✔ Auto-filled config with all values\u001b[0m\n",
      "\u001b[38;5;2m✔ Saved config\u001b[0m\n",
      "config.cfg\n",
      "You can now add your data and train your pipeline:\n",
      "python -m spacy train config.cfg --paths.train ./train.spacy --paths.dev ./dev.spacy\n"
     ]
    }
   ],
   "source": [
    "! python -m spacy init config config.cfg --lang en --pipeline ner --optimize accuracy --force"
   ]
  },
  {
   "cell_type": "code",
   "execution_count": 14,
   "metadata": {},
   "outputs": [
    {
     "name": "stdout",
     "output_type": "stream",
     "text": [
      "Collecting en-core-web-lg==3.8.0\n",
      "  Downloading https://github.com/explosion/spacy-models/releases/download/en_core_web_lg-3.8.0/en_core_web_lg-3.8.0-py3-none-any.whl (400.7 MB)\n",
      "\u001b[38;5;2m✔ Download and installation successful\u001b[0m\n",
      "You can now load the package via spacy.load('en_core_web_lg')\n"
     ]
    }
   ],
   "source": [
    "!python -m spacy download en_core_web_lg"
   ]
  },
  {
   "cell_type": "code",
   "execution_count": 15,
   "metadata": {},
   "outputs": [
    {
     "name": "stdout",
     "output_type": "stream",
     "text": [
      "\u001b[38;5;4mℹ Saving to output directory: .\u001b[0m\n",
      "\u001b[38;5;4mℹ Using CPU\u001b[0m\n",
      "\u001b[1m\n",
      "=========================== Initializing pipeline ===========================\u001b[0m\n",
      "\u001b[38;5;2m✔ Initialized pipeline\u001b[0m\n",
      "\u001b[1m\n",
      "============================= Training pipeline =============================\u001b[0m\n",
      "\u001b[38;5;4mℹ Pipeline: ['tok2vec', 'ner']\u001b[0m\n",
      "\u001b[38;5;4mℹ Initial learn rate: 0.001\u001b[0m\n",
      "E    #       LOSS TOK2VEC  LOSS NER  ENTS_F  ENTS_P  ENTS_R  SCORE \n",
      "---  ------  ------------  --------  ------  ------  ------  ------\n",
      "  0       0          0.00     63.85    0.20    0.13    0.53    0.00\n",
      "  5     200        102.21   1918.44   61.13   82.14   48.68    0.61\n",
      " 10     400        255.97    930.32   83.80   88.76   79.37    0.84\n",
      " 17     600         70.83    661.81   82.82   88.55   77.78    0.83\n",
      " 26     800        217.24    800.73   86.93   93.87   80.95    0.87\n",
      " 37    1000        194.02    837.57   88.47   89.67   87.30    0.88\n",
      " 52    1200         87.73    873.63   88.25   87.11   89.42    0.88\n",
      " 71    1400         85.92    982.30   89.07   89.78   88.36    0.89\n",
      " 93    1600         95.40   1118.55   89.35   87.76   91.01    0.89\n",
      "121    1800         71.96   1268.53   89.18   88.95   89.42    0.89\n",
      "156    2000         76.12   1518.79   89.54   90.76   88.36    0.90\n",
      "198    2200         63.80   1736.32   89.01   95.18   83.60    0.89\n",
      "248    2400         56.59   1946.56   88.64   93.02   84.66    0.89\n",
      "298    2600         55.56   1970.64   89.37   92.13   86.77    0.89\n",
      "348    2800         46.40   1929.13   89.87   88.27   91.53    0.90\n",
      "398    3000         51.46   1919.28   88.89   86.87   91.01    0.89\n",
      "448    3200         47.19   1901.34   88.65   88.42   88.89    0.89\n",
      "498    3400         42.33   1894.23   89.57   86.27   93.12    0.90\n",
      "548    3600         58.75   1914.20   89.76   89.06   90.48    0.90\n",
      "598    3800         43.35   1892.61   89.26   93.10   85.71    0.89\n",
      "648    4000         42.80   1863.15   88.89   96.30   82.54    0.89\n",
      "698    4200         39.52   1914.58   88.76   97.47   81.48    0.89\n",
      "748    4400         50.41   1878.23   89.24   88.54   89.95    0.89\n",
      "\u001b[38;5;2m✔ Saved pipeline to output directory\u001b[0m\n",
      "model-last\n"
     ]
    }
   ],
   "source": [
    "! python -m spacy train config.cfg --output ./ --paths.train ./training_data.spacy --paths.dev ./training_data.spacy"
   ]
  },
  {
   "cell_type": "code",
   "execution_count": 16,
   "metadata": {},
   "outputs": [],
   "source": [
    "nlp_ner = spacy.load(\"model-best\") "
   ]
  },
  {
   "cell_type": "code",
   "execution_count": 17,
   "metadata": {},
   "outputs": [],
   "source": [
    "import pandas as pd\n",
    "\n",
    "df = pd.read_csv('Datasets/Health_News/Health_News.csv')\n",
    "\n",
    "sample_text = df[\"content\"].iloc[247]\n",
    "\n",
    "doc = nlp_ner(\"\"\"\n",
    "\n",
    "RARITAN, N.J. - Johnson & Johnson (NYSE:JNJ) has revealed promising overall survival (OS) results from its Phase 3 MARIPOSA study, which could transform the treatment landscape for patients with advanced non-small cell lung cancer (NSCLC). The study showed that the combination of RYBREVANT® (amivantamab-vmjw) and LAZCLUZE™ (lazertinib) significantly improved survival outcomes compared to the current standard treatment, osimertinib.\n",
    "\n",
    "The data, expected to be presented at the European Lung Cancer Congress (ELCC) in 2025, suggests that patients with locally advanced or metastatic NSCLC with specific EGFR mutations could benefit from this new treatment regimen. With an EBITDA of nearly $30 billion in the last twelve months, Johnson & Johnson demonstrates the financial strength needed to support its extensive research and development initiatives. InvestingPro analysis reveals the company maintains a \"GOOD\" financial health score, suggesting strong operational stability. Dr. Yusri Elsayed, Global Therapeutic Area Head of Oncology at Johnson & Johnson Innovative Medicine, emphasized the potential for these therapies to extend patients’ lives beyond what current treatments offer.\n",
    "\n",
    "In addition to the MARIPOSA study, Johnson & Johnson will also present findings from the Phase 2 COCOON study, which evaluated a dermatologic regimen to prevent skin reactions in patients receiving the RYBREVANT® combination therapy. The regimen met its primary endpoint, enhancing patient experience by managing side effects more effectively.\n",
    "\n",
    "The company’s extensive clinical trial program continues to explore RYBREVANT® in various combinations and settings, including the Phase 2 PALOMA-2 study, which assesses the feasibility of switching to a subcutaneous form of amivantamab.\n",
    "\n",
    "RYBREVANT® has received approvals in the U.S., Europe, and other global markets for several indications related to NSCLC treatment. The European Medicines Agency’s Committee for Medicinal Products for Human Use (CHMP) recommended approval of a subcutaneous formulation of amivantamab and LAZCLUZE™ for first-line treatment of adult patients with advanced NSCLC harboring specific EGFR mutations.\n",
    "\n",
    "The National Comprehensive Cancer Network® (NCCN®) has included RYBREVANT® and LAZCLUZE™ as a Category 1 recommendation for first-line therapy in patients with NSCLC with certain EGFR mutations.\n",
    "\n",
    "The announcement is based on a press release statement and provides a glimpse into the ongoing efforts to enhance cancer treatment options and improve patient outcomes.\n",
    "\n",
    "For further information on the safety and prescribing information for RYBREVANT® and LAZCLUZE™, healthcare professionals are directed to the full prescribing information provided by Janssen Biotech, Inc. For investors seeking deeper insights, InvestingPro offers comprehensive analysis of Johnson & Johnson’s financial performance, including over 30 additional exclusive ProTips and detailed valuation metrics. The company currently offers a 3.04% dividend yield and trades near its 52-week high, reflecting strong market confidence in its pipeline developments.\n",
    "\n",
    "In other recent news, Johnson & Johnson has received Fast Track designation from the U.S. Food and Drug Administration for nipocalimab, aimed at treating moderate-to-severe Sjögren’s disease. This follows the Breakthrough Therapy designation granted in 2024, underscoring the FDA’s support for the drug’s rapid development. Meanwhile, RBC Capital Markets has maintained its Outperform rating on Johnson & Johnson, highlighting the potential $5 billion annual sales opportunity for Icotrokinra, which could significantly contribute to the company’s growth from 2025 to 2030.\n",
    "\n",
    "In another development, Johnson & Johnson decided not to exercise its option to license Genmab’s HexaBody-CD38, following a clinical proof-of-concept study. Despite promising initial data, the decision was based on an evaluation of the drug’s clinical data and market landscape. Additionally, Johnson & Johnson reported positive results from its Phase 2b ANTHEM-UC trial for icotrokinra in ulcerative colitis, achieving a 63.5% clinical response rate at the highest dose.\n",
    "\n",
    "Furthermore, Guggenheim Securities downgraded Neumora Therapeutics to Neutral after Johnson & Johnson discontinued its Phase 3 VENTURA program for aticaprant in major depressive disorder due to insufficient efficacy. This decision influenced Guggenheim’s outlook on Neumora’s own drug development efforts. These recent developments highlight Johnson & Johnson’s ongoing efforts in healthcare innovation and strategic decisions in drug development.\n",
    "\n",
    "This article was generated with the support of AI and reviewed by an editor. For more information see our T&C.\n",
    "              ”\"\"\")"
   ]
  },
  {
   "cell_type": "code",
   "execution_count": 18,
   "metadata": {},
   "outputs": [
    {
     "data": {
      "text/html": [
       "<span class=\"tex2jax_ignore\"><div class=\"entities\" style=\"line-height: 2.5; direction: ltr\"><br><br>\n",
       "<mark class=\"entity\" style=\"background: #ddd; padding: 0.45em 0.6em; margin: 0 0.25em; line-height: 1; border-radius: 0.35em;\">\n",
       "    RARITAN\n",
       "    <span style=\"font-size: 0.8em; font-weight: bold; line-height: 1; border-radius: 0.35em; vertical-align: middle; margin-left: 0.5rem\">MEDICINE</span>\n",
       "</mark>\n",
       ", N.J. - \n",
       "<mark class=\"entity\" style=\"background: #ddd; padding: 0.45em 0.6em; margin: 0 0.25em; line-height: 1; border-radius: 0.35em;\">\n",
       "    Johnson &amp; Johnson (\n",
       "    <span style=\"font-size: 0.8em; font-weight: bold; line-height: 1; border-radius: 0.35em; vertical-align: middle; margin-left: 0.5rem\">PHARMACEUTICAL COMPANY</span>\n",
       "</mark>\n",
       "NYSE:JNJ) has revealed promising overall survival (OS) results from its Phase 3 MARIPOSA study, which could transform the treatment landscape for patients with advanced non-small cell lung cancer (NSCLC). The study showed that the combination of RYBREVANT® (\n",
       "<mark class=\"entity\" style=\"background: #ddd; padding: 0.45em 0.6em; margin: 0 0.25em; line-height: 1; border-radius: 0.35em;\">\n",
       "    amivantamab\n",
       "    <span style=\"font-size: 0.8em; font-weight: bold; line-height: 1; border-radius: 0.35em; vertical-align: middle; margin-left: 0.5rem\">MEDICINE</span>\n",
       "</mark>\n",
       "-vmjw) and LAZCLUZE™ (\n",
       "<mark class=\"entity\" style=\"background: #ddd; padding: 0.45em 0.6em; margin: 0 0.25em; line-height: 1; border-radius: 0.35em;\">\n",
       "    lazertinib)\n",
       "    <span style=\"font-size: 0.8em; font-weight: bold; line-height: 1; border-radius: 0.35em; vertical-align: middle; margin-left: 0.5rem\">MEDICINE</span>\n",
       "</mark>\n",
       " significantly improved survival outcomes compared to the current standard treatment, \n",
       "<mark class=\"entity\" style=\"background: #ddd; padding: 0.45em 0.6em; margin: 0 0.25em; line-height: 1; border-radius: 0.35em;\">\n",
       "    osimertinib\n",
       "    <span style=\"font-size: 0.8em; font-weight: bold; line-height: 1; border-radius: 0.35em; vertical-align: middle; margin-left: 0.5rem\">MEDICINE</span>\n",
       "</mark>\n",
       ".<br><br>The data, expected to be presented at the European \n",
       "<mark class=\"entity\" style=\"background: #ddd; padding: 0.45em 0.6em; margin: 0 0.25em; line-height: 1; border-radius: 0.35em;\">\n",
       "    Lung Cancer Congress (\n",
       "    <span style=\"font-size: 0.8em; font-weight: bold; line-height: 1; border-radius: 0.35em; vertical-align: middle; margin-left: 0.5rem\">ORGANIZATION</span>\n",
       "</mark>\n",
       "ELCC) in 2025, suggests that patients with locally advanced or metastatic NSCLC with specific EGFR mutations could benefit from this new treatment regimen. With an EBITDA of nearly $30 billion in the last twelve months, \n",
       "<mark class=\"entity\" style=\"background: #ddd; padding: 0.45em 0.6em; margin: 0 0.25em; line-height: 1; border-radius: 0.35em;\">\n",
       "    Johnson &amp; Johnson demonstrates\n",
       "    <span style=\"font-size: 0.8em; font-weight: bold; line-height: 1; border-radius: 0.35em; vertical-align: middle; margin-left: 0.5rem\">PHARMACEUTICAL COMPANY</span>\n",
       "</mark>\n",
       " the financial strength needed to support its extensive research and development initiatives. InvestingPro analysis reveals the company maintains a &quot;GOOD&quot; financial health score, suggesting strong operational stability. Dr. Yusri Elsayed, Global Therapeutic Area Head of Oncology at \n",
       "<mark class=\"entity\" style=\"background: #ddd; padding: 0.45em 0.6em; margin: 0 0.25em; line-height: 1; border-radius: 0.35em;\">\n",
       "    Johnson &amp; Johnson\n",
       "    <span style=\"font-size: 0.8em; font-weight: bold; line-height: 1; border-radius: 0.35em; vertical-align: middle; margin-left: 0.5rem\">PHARMACEUTICAL COMPANY</span>\n",
       "</mark>\n",
       " Innovative Medicine, emphasized the potential for these therapies to extend patients’ lives beyond what current treatments offer.<br><br>In addition to the MARIPOSA study, \n",
       "<mark class=\"entity\" style=\"background: #ddd; padding: 0.45em 0.6em; margin: 0 0.25em; line-height: 1; border-radius: 0.35em;\">\n",
       "    Johnson &amp; Johnson\n",
       "    <span style=\"font-size: 0.8em; font-weight: bold; line-height: 1; border-radius: 0.35em; vertical-align: middle; margin-left: 0.5rem\">PHARMACEUTICAL COMPANY</span>\n",
       "</mark>\n",
       " will also present findings from the Phase 2 COCOON study, which evaluated a dermatologic regimen to prevent skin reactions in patients receiving the RYBREVANT® combination therapy. The regimen met its primary endpoint, enhancing patient experience by managing side effects more effectively.<br><br>The company’s extensive clinical trial program continues to explore RYBREVANT® in various combinations and settings, including the Phase 2 PALOMA-2 study, which assesses the feasibility of switching to a subcutaneous form of \n",
       "<mark class=\"entity\" style=\"background: #ddd; padding: 0.45em 0.6em; margin: 0 0.25em; line-height: 1; border-radius: 0.35em;\">\n",
       "    amivantamab\n",
       "    <span style=\"font-size: 0.8em; font-weight: bold; line-height: 1; border-radius: 0.35em; vertical-align: middle; margin-left: 0.5rem\">MEDICINE</span>\n",
       "</mark>\n",
       ".<br><br>RYBREVANT® has received approvals in the U.S., Europe, and other global markets for several indications related to NSCLC treatment. The European Medicines Agency’s Committee for Medicinal Products for Human Use (CHMP) recommended approval of a subcutaneous formulation of \n",
       "<mark class=\"entity\" style=\"background: #ddd; padding: 0.45em 0.6em; margin: 0 0.25em; line-height: 1; border-radius: 0.35em;\">\n",
       "    amivantamab\n",
       "    <span style=\"font-size: 0.8em; font-weight: bold; line-height: 1; border-radius: 0.35em; vertical-align: middle; margin-left: 0.5rem\">MEDICINE</span>\n",
       "</mark>\n",
       " and LAZCLUZE™ for first-line treatment of adult patients with advanced NSCLC harboring specific EGFR mutations.<br><br>The National Comprehensive Cancer Network® (NCCN®) has included RYBREVANT® and LAZCLUZE™ as a Category 1 recommendation for first-line therapy in patients with NSCLC with certain EGFR mutations.<br><br>The announcement is based on a press release statement and provides a glimpse into the ongoing efforts to enhance \n",
       "<mark class=\"entity\" style=\"background: #ddd; padding: 0.45em 0.6em; margin: 0 0.25em; line-height: 1; border-radius: 0.35em;\">\n",
       "    cancer treatment\n",
       "    <span style=\"font-size: 0.8em; font-weight: bold; line-height: 1; border-radius: 0.35em; vertical-align: middle; margin-left: 0.5rem\">MEDICAL ISSUE</span>\n",
       "</mark>\n",
       " options and improve patient outcomes.<br><br>For further information on the safety and prescribing information for RYBREVANT® and LAZCLUZE™, healthcare professionals are directed to the full prescribing information provided by Janssen Biotech, Inc. For investors seeking deeper insights, InvestingPro offers comprehensive analysis of \n",
       "<mark class=\"entity\" style=\"background: #ddd; padding: 0.45em 0.6em; margin: 0 0.25em; line-height: 1; border-radius: 0.35em;\">\n",
       "    Johnson &amp; Johnson’s\n",
       "    <span style=\"font-size: 0.8em; font-weight: bold; line-height: 1; border-radius: 0.35em; vertical-align: middle; margin-left: 0.5rem\">PHARMACEUTICAL COMPANY</span>\n",
       "</mark>\n",
       " financial performance, including over 30 additional exclusive ProTips and detailed valuation metrics. The company currently offers a 3.04% dividend yield and trades near its 52-week high, reflecting strong market confidence in its pipeline developments.<br><br>In other recent news, \n",
       "<mark class=\"entity\" style=\"background: #ddd; padding: 0.45em 0.6em; margin: 0 0.25em; line-height: 1; border-radius: 0.35em;\">\n",
       "    Johnson &amp; Johnson\n",
       "    <span style=\"font-size: 0.8em; font-weight: bold; line-height: 1; border-radius: 0.35em; vertical-align: middle; margin-left: 0.5rem\">PHARMACEUTICAL COMPANY</span>\n",
       "</mark>\n",
       " has received Fast Track designation from the U.S. Food and Drug Administration for \n",
       "<mark class=\"entity\" style=\"background: #ddd; padding: 0.45em 0.6em; margin: 0 0.25em; line-height: 1; border-radius: 0.35em;\">\n",
       "    nipocalimab\n",
       "    <span style=\"font-size: 0.8em; font-weight: bold; line-height: 1; border-radius: 0.35em; vertical-align: middle; margin-left: 0.5rem\">MEDICINE</span>\n",
       "</mark>\n",
       ", aimed at treating moderate-to-severe Sjögren’s disease. This follows the Breakthrough Therapy designation granted in 2024, underscoring the \n",
       "<mark class=\"entity\" style=\"background: #ddd; padding: 0.45em 0.6em; margin: 0 0.25em; line-height: 1; border-radius: 0.35em;\">\n",
       "    FDA\n",
       "    <span style=\"font-size: 0.8em; font-weight: bold; line-height: 1; border-radius: 0.35em; vertical-align: middle; margin-left: 0.5rem\">ORGANIZATION</span>\n",
       "</mark>\n",
       "’s support for the drug’s rapid development. Meanwhile, RBC Capital Markets has maintained its Outperform rating on \n",
       "<mark class=\"entity\" style=\"background: #ddd; padding: 0.45em 0.6em; margin: 0 0.25em; line-height: 1; border-radius: 0.35em;\">\n",
       "    Johnson &amp; Johnson\n",
       "    <span style=\"font-size: 0.8em; font-weight: bold; line-height: 1; border-radius: 0.35em; vertical-align: middle; margin-left: 0.5rem\">PHARMACEUTICAL COMPANY</span>\n",
       "</mark>\n",
       ", highlighting the potential $5 billion annual sales opportunity for \n",
       "<mark class=\"entity\" style=\"background: #ddd; padding: 0.45em 0.6em; margin: 0 0.25em; line-height: 1; border-radius: 0.35em;\">\n",
       "    Icotrokinra\n",
       "    <span style=\"font-size: 0.8em; font-weight: bold; line-height: 1; border-radius: 0.35em; vertical-align: middle; margin-left: 0.5rem\">MEDICINE</span>\n",
       "</mark>\n",
       ", which could significantly contribute to the company’s growth from 2025 to 2030.<br><br>In another development, \n",
       "<mark class=\"entity\" style=\"background: #ddd; padding: 0.45em 0.6em; margin: 0 0.25em; line-height: 1; border-radius: 0.35em;\">\n",
       "    Johnson &amp; Johnson\n",
       "    <span style=\"font-size: 0.8em; font-weight: bold; line-height: 1; border-radius: 0.35em; vertical-align: middle; margin-left: 0.5rem\">PHARMACEUTICAL COMPANY</span>\n",
       "</mark>\n",
       " decided not to exercise its option to license \n",
       "<mark class=\"entity\" style=\"background: #ddd; padding: 0.45em 0.6em; margin: 0 0.25em; line-height: 1; border-radius: 0.35em;\">\n",
       "    Genmab\n",
       "    <span style=\"font-size: 0.8em; font-weight: bold; line-height: 1; border-radius: 0.35em; vertical-align: middle; margin-left: 0.5rem\">MEDICINE</span>\n",
       "</mark>\n",
       "’s HexaBody-CD38, following a clinical proof-of-concept study. Despite promising initial data, the decision was based on an evaluation of the drug’s clinical data and market landscape. Additionally, \n",
       "<mark class=\"entity\" style=\"background: #ddd; padding: 0.45em 0.6em; margin: 0 0.25em; line-height: 1; border-radius: 0.35em;\">\n",
       "    Johnson &amp; Johnson reported\n",
       "    <span style=\"font-size: 0.8em; font-weight: bold; line-height: 1; border-radius: 0.35em; vertical-align: middle; margin-left: 0.5rem\">PHARMACEUTICAL COMPANY</span>\n",
       "</mark>\n",
       " positive results from its Phase 2b ANTHEM-UC trial for icotrokinra in \n",
       "<mark class=\"entity\" style=\"background: #ddd; padding: 0.45em 0.6em; margin: 0 0.25em; line-height: 1; border-radius: 0.35em;\">\n",
       "    ulcerative colitis\n",
       "    <span style=\"font-size: 0.8em; font-weight: bold; line-height: 1; border-radius: 0.35em; vertical-align: middle; margin-left: 0.5rem\">MEDICAL ISSUE</span>\n",
       "</mark>\n",
       ", achieving a 63.5% clinical response rate at the highest dose.<br><br>Furthermore, Guggenheim Securities downgraded Neumora Therapeutics to Neutral after \n",
       "<mark class=\"entity\" style=\"background: #ddd; padding: 0.45em 0.6em; margin: 0 0.25em; line-height: 1; border-radius: 0.35em;\">\n",
       "    Johnson &amp; Johnson discontinued\n",
       "    <span style=\"font-size: 0.8em; font-weight: bold; line-height: 1; border-radius: 0.35em; vertical-align: middle; margin-left: 0.5rem\">PHARMACEUTICAL COMPANY</span>\n",
       "</mark>\n",
       " its Phase 3 VENTURA program for aticaprant in major depressive disorder due to insufficient efficacy. This decision influenced Guggenheim’s outlook on Neumora’s own drug development efforts. These recent developments highlight \n",
       "<mark class=\"entity\" style=\"background: #ddd; padding: 0.45em 0.6em; margin: 0 0.25em; line-height: 1; border-radius: 0.35em;\">\n",
       "    Johnson &amp; Johnson\n",
       "    <span style=\"font-size: 0.8em; font-weight: bold; line-height: 1; border-radius: 0.35em; vertical-align: middle; margin-left: 0.5rem\">PHARMACEUTICAL COMPANY</span>\n",
       "</mark>\n",
       "’s ongoing efforts in healthcare innovation and strategic decisions in drug development.<br><br>This article was generated with the support of AI and reviewed by an editor. For more information see our T&amp;C.<br>              ”</div></span>"
      ],
      "text/plain": [
       "<IPython.core.display.HTML object>"
      ]
     },
     "metadata": {},
     "output_type": "display_data"
    }
   ],
   "source": [
    "spacy.displacy.render(doc, style=\"ent\", jupyter=True)"
   ]
  },
  {
   "cell_type": "code",
   "execution_count": 56,
   "metadata": {},
   "outputs": [],
   "source": [
    "import pandas as pd\n",
    "import spacy\n",
    "\n",
    "nlp = spacy.load(\"en_core_web_sm\")\n",
    "\n",
    "\n",
    "def entities(text):\n",
    "    doc = nlp(text)\n",
    "    entity = [(ent.text, ent.label_) for ent in doc.ents]\n",
    "    return entity\n",
    "\n",
    "df = pd.read_csv(\"combined_english_news.csv\")\n",
    "df = df.dropna(subset=['content'])\n",
    "\n",
    "df['entities'] = df[\"content\"].apply(entities)\n",
    "\n",
    "df.to_csv(\"english_articles_with_entities.csv\", index=False)"
   ]
  },
  {
   "cell_type": "code",
   "execution_count": 59,
   "metadata": {},
   "outputs": [],
   "source": [
    "def entities2(text):\n",
    "    doc = nlp_ner(text)\n",
    "    entity = [(ent.text, ent.label_) for ent in doc.ents]\n",
    "    return entity\n",
    "\n",
    "df = pd.read_csv('combined_english_news.csv')\n",
    "df = df.dropna(subset=['content'])\n",
    "\n",
    "df['entities'] = df['content'].apply(entities2)\n",
    "\n",
    "df.to_csv(\"english_articles_with_entities_v2.csv\", index=False)"
   ]
  },
  {
   "cell_type": "code",
   "execution_count": null,
   "metadata": {},
   "outputs": [],
   "source": []
  }
 ],
 "metadata": {
  "kernelspec": {
   "display_name": "Python 3",
   "language": "python",
   "name": "python3"
  },
  "language_info": {
   "codemirror_mode": {
    "name": "ipython",
    "version": 3
   },
   "file_extension": ".py",
   "mimetype": "text/x-python",
   "name": "python",
   "nbconvert_exporter": "python",
   "pygments_lexer": "ipython3",
   "version": "3.9.5"
  }
 },
 "nbformat": 4,
 "nbformat_minor": 2
}
